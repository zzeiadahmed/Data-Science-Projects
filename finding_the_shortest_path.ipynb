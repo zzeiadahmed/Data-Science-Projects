{
  "nbformat": 4,
  "nbformat_minor": 0,
  "metadata": {
    "colab": {
      "provenance": []
    },
    "kernelspec": {
      "name": "python3",
      "display_name": "Python 3"
    },
    "language_info": {
      "name": "python"
    }
  },
  "cells": [
    {
      "cell_type": "code",
      "execution_count": null,
      "metadata": {
        "id": "f5h410AugDub"
      },
      "outputs": [],
      "source": [
        "import curses\n",
        "from curses import wrapper\n",
        "import queue\n",
        "import time"
      ]
    },
    {
      "cell_type": "code",
      "source": [
        "maze = [\n",
        "    [\"#\", \"O\", \"#\", \"#\", \"#\", \"#\", \"#\", \"#\", \"#\"],\n",
        "    [\"#\", \" \", \" \", \" \", \" \", \" \", \" \", \" \", \"#\"],\n",
        "    [\"#\", \" \", \"#\", \"#\", \" \", \"#\", \"#\", \" \", \"#\"],\n",
        "    [\"#\", \" \", \"#\", \" \", \" \", \" \", \"#\", \" \", \"#\"],\n",
        "    [\"#\", \" \", \"#\", \" \", \"#\", \" \", \"#\", \" \", \"#\"],\n",
        "    [\"#\", \" \", \"#\", \" \", \"#\", \" \", \"#\", \" \", \"#\"],\n",
        "    [\"#\", \" \", \"#\", \" \", \"#\", \" \", \"#\", \"#\", \"#\"],\n",
        "    [\"#\", \" \", \" \", \" \", \" \", \" \", \" \", \" \", \"#\"],\n",
        "    [\"#\", \"#\", \"#\", \"#\", \"#\", \"#\", \"#\", \"X\", \"#\"]\n",
        "]\n"
      ],
      "metadata": {
        "id": "-vLrgXO_gyja"
      },
      "execution_count": null,
      "outputs": []
    },
    {
      "cell_type": "code",
      "source": [
        "def print_maze(maze, stdscr, path=[]):\n",
        "    BLUE = curses.color_pair(1)\n",
        "    RED = curses.color_pair(2)\n",
        "\n",
        "    for i, row in enumerate(maze):\n",
        "        for j, value in enumerate(row):\n",
        "            if (i, j) in path:\n",
        "                stdscr.addstr(i, j*2, \"X\", RED)\n",
        "            else:\n",
        "                stdscr.addstr(i, j*2, value, BLUE)\n"
      ],
      "metadata": {
        "id": "TDRpMieQg2pI"
      },
      "execution_count": null,
      "outputs": []
    },
    {
      "cell_type": "code",
      "source": [
        "def find_start(maze, start):\n",
        "    for i, row in enumerate(maze):\n",
        "        for j, value in enumerate(row):\n",
        "            if value == start:\n",
        "                return i, j\n",
        "\n",
        "    return None"
      ],
      "metadata": {
        "id": "cCKwvMSbg5qo"
      },
      "execution_count": null,
      "outputs": []
    },
    {
      "cell_type": "code",
      "source": [
        "def find_path(maze, stdscr):\n",
        "    start = \"O\"\n",
        "    end = \"X\"\n",
        "    start_pos = find_start(maze, start)\n",
        "\n",
        "    q = queue.Queue()\n",
        "    q.put((start_pos, [start_pos]))\n",
        "\n",
        "    visited = set()\n",
        "\n",
        "    while not q.empty():\n",
        "        current_pos, path = q.get()\n",
        "        row, col = current_pos\n",
        "\n",
        "        stdscr.clear()\n",
        "        print_maze(maze, stdscr, path)\n",
        "        time.sleep(0.2)\n",
        "        stdscr.refresh()\n",
        "\n",
        "        if maze[row][col] == end:\n",
        "            return path\n",
        "\n",
        "        neighbors = find_neighbors(maze, row, col)\n",
        "        for neighbor in neighbors:\n",
        "            if neighbor in visited:\n",
        "                continue\n",
        "\n",
        "            r, c = neighbor\n",
        "            if maze[r][c] == \"#\":\n",
        "                continue\n",
        "\n",
        "            new_path = path + [neighbor]\n",
        "            q.put((neighbor, new_path))\n",
        "            visited.add(neighbor)\n"
      ],
      "metadata": {
        "id": "rMspXOlBhCjF"
      },
      "execution_count": null,
      "outputs": []
    },
    {
      "cell_type": "code",
      "source": [
        "def find_neighbors(maze, row, col):\n",
        "    neighbors = []\n",
        "\n",
        "    if row > 0:  # UP\n",
        "        neighbors.append((row - 1, col))\n",
        "    if row + 1 < len(maze):  # DOWN\n",
        "        neighbors.append((row + 1, col))\n",
        "    if col > 0:  # LEFT\n",
        "        neighbors.append((row, col - 1))\n",
        "    if col + 1 < len(maze[0]):  # RIGHT\n",
        "        neighbors.append((row, col + 1))\n",
        "\n",
        "    return neighbors"
      ],
      "metadata": {
        "id": "0hyjWWWyhH08"
      },
      "execution_count": null,
      "outputs": []
    },
    {
      "cell_type": "code",
      "source": [],
      "metadata": {
        "id": "WiHztXGMhd2M"
      },
      "execution_count": null,
      "outputs": []
    },
    {
      "cell_type": "code",
      "metadata": {
        "colab": {
          "base_uri": "https://localhost:8080/"
        },
        "id": "64c694c2",
        "outputId": "fb1cb3cc-622b-43bb-f2d6-db7983108794"
      },
      "source": [
        "import time\n",
        "import IPython.display as display\n",
        "\n",
        "def print_maze_alternative(maze, path=[]):\n",
        "    for i, row in enumerate(maze):\n",
        "        for j, value in enumerate(row):\n",
        "            if (i, j) in path:\n",
        "                print(\"X \", end=\"\")\n",
        "            else:\n",
        "                print(value + \" \", end=\"\")\n",
        "        print() # Newline after each row\n",
        "\n",
        "def find_path_alternative(maze):\n",
        "    start = \"O\"\n",
        "    end = \"X\"\n",
        "    start_pos = find_start(maze, start)\n",
        "\n",
        "    q = queue.Queue()\n",
        "    q.put((start_pos, [start_pos]))\n",
        "\n",
        "    visited = set()\n",
        "\n",
        "    while not q.empty():\n",
        "        current_pos, path = q.get()\n",
        "        row, col = current_pos\n",
        "\n",
        "        # Clear the previous output and print the current state\n",
        "        display.clear_output(wait=True)\n",
        "        print_maze_alternative(maze, path)\n",
        "        time.sleep(0.5) # Adjust the delay as needed\n",
        "\n",
        "\n",
        "        if maze[row][col] == end:\n",
        "            return path\n",
        "\n",
        "        neighbors = find_neighbors(maze, row, col)\n",
        "        for neighbor in neighbors:\n",
        "            if neighbor in visited:\n",
        "                continue\n",
        "\n",
        "            r, c = neighbor\n",
        "            if maze[r][c] == \"#\":\n",
        "                continue\n",
        "\n",
        "            new_path = path + [neighbor]\n",
        "            q.put((neighbor, new_path))\n",
        "            visited.add(neighbor)\n",
        "\n",
        "    return None # No path found\n",
        "\n",
        "# Run the alternative visualization\n",
        "find_path_alternative(maze)"
      ],
      "execution_count": null,
      "outputs": [
        {
          "output_type": "stream",
          "name": "stdout",
          "text": [
            "# X # # # # # # # \n",
            "# X             # \n",
            "# X # #   # #   # \n",
            "# X #       #   # \n",
            "# X #   #   #   # \n",
            "# X #   #   #   # \n",
            "# X #   #   # # # \n",
            "# X X X X X X X # \n",
            "# # # # # # # X # \n"
          ]
        },
        {
          "output_type": "execute_result",
          "data": {
            "text/plain": [
              "[(0, 1),\n",
              " (1, 1),\n",
              " (2, 1),\n",
              " (3, 1),\n",
              " (4, 1),\n",
              " (5, 1),\n",
              " (6, 1),\n",
              " (7, 1),\n",
              " (7, 2),\n",
              " (7, 3),\n",
              " (7, 4),\n",
              " (7, 5),\n",
              " (7, 6),\n",
              " (7, 7),\n",
              " (8, 7)]"
            ]
          },
          "metadata": {},
          "execution_count": 10
        }
      ]
    }
  ]
}