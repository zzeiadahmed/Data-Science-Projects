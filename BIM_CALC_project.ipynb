{
  "nbformat": 4,
  "nbformat_minor": 0,
  "metadata": {
    "colab": {
      "provenance": [],
      "authorship_tag": "ABX9TyOdWcGHpydHKbq3A/MJmLZ+",
      "include_colab_link": true
    },
    "kernelspec": {
      "name": "python3",
      "display_name": "Python 3"
    },
    "language_info": {
      "name": "python"
    }
  },
  "cells": [
    {
      "cell_type": "markdown",
      "metadata": {
        "id": "view-in-github",
        "colab_type": "text"
      },
      "source": [
        "<a href=\"https://colab.research.google.com/github/zzeiadahmed/Data-Science-Projects/blob/main/BIM_CALC_project.ipynb\" target=\"_parent\"><img src=\"https://colab.research.google.com/assets/colab-badge.svg\" alt=\"Open In Colab\"/></a>"
      ]
    },
    {
      "cell_type": "markdown",
      "source": [
        "# **BMI CALC**"
      ],
      "metadata": {
        "id": "n_JpJTW5DdXH"
      }
    },
    {
      "cell_type": "code",
      "execution_count": null,
      "metadata": {
        "id": "AVYB5v813i54"
      },
      "outputs": [],
      "source": [
        "Name=input(\"Enter your name:  \")\n",
        "weight = input(\"Enter your weight in pounds:  \")\n",
        "height = input(\"Enter your height in inches:  \")\n",
        "BMI=(int(weight)*703)/(int(height)*int(height))\n",
        "print(BMI)\n",
        "if BMI>0:\n",
        "    if(BMI<18.5):\n",
        "        print(Name +\", you are Underweight\")\n",
        "    elif(BMI<24.9):\n",
        "        print(Name +\", you are Normal Weight\")\n",
        "    elif(BMI<29.9):\n",
        "        print(Name +\", you are Overweight\")\n",
        "    elif(BMI<34.9):\n",
        "        print(Name +\", you are Obese\")\n",
        "    elif(BMI<39.9):\n",
        "        print(Name +\", you are Severely Obese\")\n",
        "    else:\n",
        "        print(Name + \", you are Morbidly Obese\")\n",
        "else:\n",
        "  print(\"please Enter a valid inputs\")\n"
      ]
    }
  ]
}